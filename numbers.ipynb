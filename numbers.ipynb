{
 "cells": [
  {
   "cell_type": "code",
   "execution_count": 1,
   "metadata": {},
   "outputs": [],
   "source": [
    "import torchvision.datasets as dset\n",
    "\n",
    "train_dataset = dset.MNIST(root = 'data/', train = True, download = True)\n",
    "test_dataset = dset.MNIST(root = 'data/', train = False, download = True)\n",
    "\n",
    "train_images = train_dataset.data\n",
    "train_labels = train_dataset.targets\n",
    "\n",
    "test_images = test_dataset.data\n",
    "test_labels = test_dataset.targets"
   ]
  },
  {
   "cell_type": "code",
   "execution_count": 2,
   "metadata": {},
   "outputs": [],
   "source": [
    "import torchvision.transforms as transforms\n",
    "\n",
    "\n",
    "#define transformations\n",
    "transform = transforms.Compose([\n",
    "    transforms.ToTensor(),\n",
    "    transforms.Normalize((0.5,), (0.5,))\n",
    "])\n",
    "\n",
    "#apply transformations to dataset\n",
    "train_dataset = dset.MNIST(root = 'data/', train = True, download = True, transform = transform)\n",
    "test_dataset = dset.MNIST(root = 'data/', train = False, download = True, transform = transform)\n"
   ]
  },
  {
   "cell_type": "code",
   "execution_count": 4,
   "metadata": {},
   "outputs": [],
   "source": [
    "from torch.utils.data import DataLoader\n",
    "\n",
    "#create data loaders\n",
    "batch_size = 64\n",
    "train_loader = DataLoader(train_dataset, batch_size = batch_size, shuffle = True)\n",
    "test_loader = DataLoader(test_dataset, batch_size = batch_size, shuffle = False)"
   ]
  },
  {
   "cell_type": "code",
   "execution_count": 2,
   "metadata": {},
   "outputs": [
    {
     "ename": "NameError",
     "evalue": "name 'train_dataset' is not defined",
     "output_type": "error",
     "traceback": [
      "\u001b[0;31m---------------------------------------------------------------------------\u001b[0m",
      "\u001b[0;31mNameError\u001b[0m                                 Traceback (most recent call last)",
      "Cell \u001b[0;32mIn[2], line 6\u001b[0m\n\u001b[1;32m      4\u001b[0m fig, axes \u001b[39m=\u001b[39m plt\u001b[39m.\u001b[39msubplots(\u001b[39m1\u001b[39m, \u001b[39m10\u001b[39m, figsize \u001b[39m=\u001b[39m (\u001b[39m10\u001b[39m, \u001b[39m1\u001b[39m))\n\u001b[1;32m      5\u001b[0m \u001b[39mfor\u001b[39;00m i, ax \u001b[39min\u001b[39;00m \u001b[39menumerate\u001b[39m(axes):\n\u001b[0;32m----> 6\u001b[0m     ax\u001b[39m.\u001b[39mimshow(train_dataset\u001b[39m.\u001b[39mdata[i], cmap \u001b[39m=\u001b[39m \u001b[39m'\u001b[39m\u001b[39mgray\u001b[39m\u001b[39m'\u001b[39m)\n\u001b[1;32m      7\u001b[0m     ax\u001b[39m.\u001b[39maxis(\u001b[39m'\u001b[39m\u001b[39moff\u001b[39m\u001b[39m'\u001b[39m)\n\u001b[1;32m      8\u001b[0m plt\u001b[39m.\u001b[39mshow()\n",
      "\u001b[0;31mNameError\u001b[0m: name 'train_dataset' is not defined"
     ]
    },
    {
     "data": {
      "image/png": "[encoded data removed]",
      "text/plain": [
       "<Figure size 1000x100 with 10 Axes>"
      ]
     },
     "metadata": {},
     "output_type": "display_data"
    }
   ],
   "source": [
    "import matplotlib.pyplot as plt\n",
    "\n",
    "#verify data\n",
    "fig, axes = plt.subplots(1, 10, figsize = (10, 1))\n",
    "for i, ax in enumerate(axes):\n",
    "    ax.imshow(train_dataset.data[i], cmap = 'gray')\n",
    "    ax.axis('off')\n",
    "plt.show()"
   ]
  },
  {
   "cell_type": "code",
   "execution_count": 6,
   "metadata": {},
   "outputs": [
    {
     "name": "stdout",
     "output_type": "stream",
     "text": [
      "Epoch: 1, Loss: 0.0555\n",
      "Epoch: 2, Loss: 0.0166\n",
      "Epoch: 3, Loss: 0.1357\n",
      "Epoch: 4, Loss: 0.0194\n",
      "Epoch: 5, Loss: 0.0292\n",
      "Epoch: 6, Loss: 0.0007\n",
      "Epoch: 7, Loss: 0.1114\n",
      "Epoch: 8, Loss: 0.0052\n",
      "Epoch: 9, Loss: 0.0000\n",
      "Epoch: 10, Loss: 0.0099\n"
     ]
    }
   ],
   "source": [
    "import torch.nn as nn\n",
    "import torch\n",
    "import torch.optim as optim\n",
    "import torchvision.transforms as transforms\n",
    "import torchvision.datasets as dsets\n",
    "\n",
    "class numbers(nn.Module):\n",
    "    def __init__(self):\n",
    "        super(numbers, self).__init__()\n",
    "        #define layers\n",
    "        self.conv1 = nn.Conv2d(in_channels = 1, out_channels = 16, kernel_size = 5, stride = 1, padding = 2)\n",
    "        self.relu1 = nn.ReLU()\n",
    "        self.maxpool1 = nn.MaxPool2d(kernel_size = 2)\n",
    "        self.conv2 = nn.Conv2d(in_channels = 16, out_channels = 32, kernel_size = 5, stride = 1, padding = 2)\n",
    "        self.relu2 = nn.ReLU()\n",
    "        self.maxpool2 = nn.MaxPool2d(kernel_size = 2)\n",
    "        self.fc1 = nn.Linear(7 * 7 * 32, 10)\n",
    "\n",
    "    #define forward pass\n",
    "    def forward(self, x):\n",
    "        out = self.conv1(x)\n",
    "        out = self.relu1(out)\n",
    "        out = self.maxpool1(out)\n",
    "        out = self.conv2(out)\n",
    "        out = self.relu2(out)\n",
    "        out = self.maxpool2(out)\n",
    "        #flatten\n",
    "        out = out.view(out.size(0), -1)\n",
    "        out = self.fc1(out)\n",
    "        return out\n",
    "    \n",
    "model = numbers()\n",
    "criterion = nn.CrossEntropyLoss()\n",
    "optimizer = optim.Adam(model.parameters(), lr = 0.001)\n",
    "\n",
    "#train model\n",
    "num_epochs = 10\n",
    "\n",
    "for epoch in range(num_epochs):\n",
    "    for images, labels in train_loader:\n",
    "        #forward pass\n",
    "        outputs = model(images)\n",
    "        loss = criterion(outputs, labels)\n",
    "        #backward pass\n",
    "        optimizer.zero_grad()\n",
    "        loss.backward()\n",
    "        optimizer.step()\n",
    "\n",
    "    print(f'Epoch: {epoch + 1}, Loss: {loss.item():.4f}')  \n",
    "\n",
    "#save model\n",
    "torch.save(model.state_dict(), 'model.pth')"
   ]
  },
  {
   "cell_type": "code",
   "execution_count": 4,
   "metadata": {},
   "outputs": [
    {
     "ename": "NameError",
     "evalue": "name 'numbers' is not defined",
     "output_type": "error",
     "traceback": [
      "\u001b[0;31m---------------------------------------------------------------------------\u001b[0m",
      "\u001b[0;31mNameError\u001b[0m                                 Traceback (most recent call last)",
      "Cell \u001b[0;32mIn[4], line 8\u001b[0m\n\u001b[1;32m      5\u001b[0m \u001b[39mimport\u001b[39;00m \u001b[39mnumpy\u001b[39;00m \u001b[39mas\u001b[39;00m \u001b[39mnp\u001b[39;00m\n\u001b[1;32m      7\u001b[0m \u001b[39m#load model\u001b[39;00m\n\u001b[0;32m----> 8\u001b[0m model \u001b[39m=\u001b[39m numbers()\n\u001b[1;32m      9\u001b[0m model\u001b[39m.\u001b[39mload_state_dict(torch\u001b[39m.\u001b[39mload(\u001b[39m'\u001b[39m\u001b[39mmodel.pth\u001b[39m\u001b[39m'\u001b[39m))\n\u001b[1;32m     11\u001b[0m \u001b[39m#dictionary to label all the classes\u001b[39;00m\n",
      "\u001b[0;31mNameError\u001b[0m: name 'numbers' is not defined"
     ]
    }
   ],
   "source": [
    "#create gui\n",
    "import tkinter as tk\n",
    "from PIL import ImageTk, Image, ImageDraw\n",
    "import PIL\n",
    "import numpy as np\n",
    "\n",
    "#load model\n",
    "model = numbers()\n",
    "model.load_state_dict(torch.load('model.pth'))\n",
    "\n",
    "#dictionary to label all the classes\n",
    "classes = {\n",
    "    0: 'Zero',\n",
    "    1: 'One',\n",
    "    2: 'Two',\n",
    "    3: 'Three',\n",
    "    4: 'Four',\n",
    "    5: 'Five',\n",
    "    6: 'Six',\n",
    "    7: 'Seven',\n",
    "    8: 'Eight',\n",
    "    9: 'Nine'\n",
    "}\n",
    "\n",
    "#initialise GUI\n",
    "window = tk.Tk()\n",
    "window.title('Number Classifier')\n",
    "window.geometry('600x600')\n",
    "\n",
    "#initialise drawing area\n",
    "canvas_width = 600\n",
    "canvas_height = 400\n",
    "canvas_colour = 'black'\n",
    "\n",
    "#initialise canvas\n",
    "canvas = tk.Canvas(window, width = canvas_width, height = canvas_height, bg = canvas_colour)\n",
    "canvas.pack()\n",
    "\n",
    "#initialise PIL image\n",
    "img = PIL.Image.new('RGB', (600, 400), canvas_colour)\n",
    "draw = ImageDraw.Draw(img)\n",
    "\n",
    "#function to clear canvas\n",
    "def clear_canvas():\n",
    "    canvas.delete('all')\n",
    "    draw.rectangle((0, 0, 600, 400), fill = canvas_colour)\n",
    "\n",
    "\n",
    "#function to classify image\n",
    "def classify_image():\n",
    "    #convert image to MNIST format\n",
    "    img_resized = img.resize((28, 28)).convert('L')\n",
    "    img_np = np.array(img_resized)\n",
    "    img_normalized = img_np / 255.0\n",
    "    img_tensor = torch.from_numpy(img_normalized).unsqueeze(0).unsqueeze(0).float()\n",
    "    \n",
    "    #get prediction\n",
    "    outputs = model(img_tensor)\n",
    "    _, predicted = torch.max(outputs.data, 1)\n",
    "    \n",
    "    #display prediction\n",
    "    label = tk.Label(window, text=f'Prediction: {classes[predicted.item()]}', font=('Arial', 32))\n",
    "    label.place(x=100, y=450)\n",
    "\n",
    "#function to draw on canvas\n",
    "def draw_on_canvas(event):\n",
    "    x = event.x\n",
    "    y = event.y\n",
    "    r = 8\n",
    "    canvas.create_oval(x - r, y - r, x + r, y + r, fill = 'white')\n",
    "    draw.rectangle((x - r, y - r, x + r, y + r), fill = 'white')\n",
    "\n",
    "#bind mouse drag event to canvas\n",
    "canvas.bind('<B1-Motion>', draw_on_canvas)\n",
    "\n",
    "#add buttons\n",
    "button_clear = tk.Button(window, text = 'Clear', font = ('Arial', 32), command = clear_canvas)\n",
    "button_clear.place(x = 100, y = 500)\n",
    "\n",
    "button_classify = tk.Button(window, text = 'Classify', font = ('Arial', 32), command = classify_image)\n",
    "button_classify.place(x = 300, y = 500)\n",
    "\n",
    "window.mainloop()\n",
    "\n",
    "# \n",
    "\n"
   ]
  }
 ],
 "metadata": {
  "kernelspec": {
   "display_name": "Python 3",
   "language": "python",
   "name": "python3"
  },
  "language_info": {
   "codemirror_mode": {
    "name": "ipython",
    "version": 3
   },
   "file_extension": ".py",
   "mimetype": "text/x-python",
   "name": "python",
   "nbconvert_exporter": "python",
   "pygments_lexer": "ipython3",
   "version": "3.11.1"
  },
  "orig_nbformat": 4
 },
 "nbformat": 4,
 "nbformat_minor": 2
}
